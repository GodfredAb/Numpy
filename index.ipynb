{
 "cells": [
  {
   "cell_type": "code",
   "execution_count": 37,
   "id": "48e6a700-5bba-4409-a012-f09736543bce",
   "metadata": {},
   "outputs": [],
   "source": [
    "import numpy as np\n",
    "import matplotlib.pyplot as plt"
   ]
  },
  {
   "cell_type": "code",
   "execution_count": 38,
   "id": "e8feb937-187d-4e20-aa8c-be93ec555f39",
   "metadata": {},
   "outputs": [],
   "source": [
    "C = np.array([20.1, 20.8, 21.9, 22.5, 22.7, 22.3, 21.8, 21.2, 20.9, 20.1])"
   ]
  },
  {
   "cell_type": "code",
   "execution_count": 39,
   "id": "382158fb-4d47-4087-8ee8-1c222a893f51",
   "metadata": {},
   "outputs": [
    {
     "name": "stdout",
     "output_type": "stream",
     "text": [
      "[20.1 20.8 21.9 22.5 22.7 22.3 21.8 21.2 20.9 20.1]\n"
     ]
    }
   ],
   "source": [
    "print(C)"
   ]
  },
  {
   "cell_type": "code",
   "execution_count": 40,
   "id": "5987ae8e-ef50-4487-8420-000d8a0c9c73",
   "metadata": {},
   "outputs": [],
   "source": [
    "F = C * 9 / 5 + 32"
   ]
  },
  {
   "cell_type": "code",
   "execution_count": 41,
   "id": "ac0870a6-f4da-4e17-bf52-7fde477f6008",
   "metadata": {},
   "outputs": [
    {
     "name": "stdout",
     "output_type": "stream",
     "text": [
      "[68.18 69.44 71.42 72.5  72.86 72.14 71.24 70.16 69.62 68.18]\n"
     ]
    }
   ],
   "source": [
    "print(F)"
   ]
  },
  {
   "cell_type": "code",
   "execution_count": 51,
   "id": "e3eee561-cef7-492e-a5c1-cbb8a14af90a",
   "metadata": {},
   "outputs": [
    {
     "data": {
      "image/png": "[encoded data removed]",
      "text/plain": [
       "<Figure size 640x480 with 1 Axes>"
      ]
     },
     "metadata": {},
     "output_type": "display_data"
    }
   ],
   "source": [
    "%matplotlib inline\n",
    "plt.plot(C)\n",
    "plt.title('Temperatures in Fahrenheit')\n",
    "plt.show()"
   ]
  },
  {
   "cell_type": "code",
   "execution_count": 43,
   "id": "657568bc-09c7-4980-a1f2-a123a6de7f1d",
   "metadata": {},
   "outputs": [],
   "source": [
    "#creation of arrays\n",
    "a = np.arange(1, 10)"
   ]
  },
  {
   "cell_type": "code",
   "execution_count": 44,
   "id": "adc7c71d-957b-45db-a817-ccadb1e2ebc9",
   "metadata": {
    "scrolled": true
   },
   "outputs": [
    {
     "name": "stdout",
     "output_type": "stream",
     "text": [
      "[1 2 3 4 5 6 7 8 9]\n"
     ]
    }
   ],
   "source": [
    "print(a)"
   ]
  },
  {
   "cell_type": "code",
   "execution_count": 45,
   "id": "a1ead584-fad3-4231-9925-5b17992162a6",
   "metadata": {
    "scrolled": true
   },
   "outputs": [
    {
     "name": "stdout",
     "output_type": "stream",
     "text": [
      "range(1, 10)\n",
      "[1, 2, 3, 4, 5, 6, 7, 8, 9]\n"
     ]
    }
   ],
   "source": [
    "x = range(1, 10)\n",
    "print(x)\n",
    "print(list(x))"
   ]
  },
  {
   "cell_type": "code",
   "execution_count": 46,
   "id": "c6c530ed-bedb-4cd9-a1e2-1b250f50449f",
   "metadata": {},
   "outputs": [
    {
     "name": "stdout",
     "output_type": "stream",
     "text": [
      "[ 1.          1.18367347  1.36734694  1.55102041  1.73469388  1.91836735\n",
      "  2.10204082  2.28571429  2.46938776  2.65306122  2.83673469  3.02040816\n",
      "  3.20408163  3.3877551   3.57142857  3.75510204  3.93877551  4.12244898\n",
      "  4.30612245  4.48979592  4.67346939  4.85714286  5.04081633  5.2244898\n",
      "  5.40816327  5.59183673  5.7755102   5.95918367  6.14285714  6.32653061\n",
      "  6.51020408  6.69387755  6.87755102  7.06122449  7.24489796  7.42857143\n",
      "  7.6122449   7.79591837  7.97959184  8.16326531  8.34693878  8.53061224\n",
      "  8.71428571  8.89795918  9.08163265  9.26530612  9.44897959  9.63265306\n",
      "  9.81632653 10.        ]\n",
      "[ 1.   2.5  4.   5.5  7.   8.5 10. ]\n",
      "[1.         2.28571429 3.57142857 4.85714286 6.14285714 7.42857143\n",
      " 8.71428571]\n"
     ]
    }
   ],
   "source": [
    "print(np.linspace(1, 10))\n",
    "print(np.linspace(1, 10, 7))\n",
    "print(np.linspace(1, 10, 7, endpoint=False))"
   ]
  },
  {
   "cell_type": "code",
   "execution_count": 47,
   "id": "d3a951ee-903b-48f7-8cbf-cd48f8d56d06",
   "metadata": {},
   "outputs": [
    {
     "name": "stdout",
     "output_type": "stream",
     "text": [
      "[ 1.   2.5  4.   5.5  7.   8.5 10. ]\n",
      "1.5\n"
     ]
    }
   ],
   "source": [
    "samples, spacing = np.linspace(1, 10, 7, retstep=True)\n",
    "print(samples)\n",
    "print(spacing)"
   ]
  },
  {
   "cell_type": "code",
   "execution_count": 48,
   "id": "ff6958e1-a96c-4e09-8e07-51688efdb76d",
   "metadata": {},
   "outputs": [
    {
     "name": "stdout",
     "output_type": "stream",
     "text": [
      "43\n",
      "<class 'numpy.ndarray'>\n",
      "0\n"
     ]
    }
   ],
   "source": [
    "# zero dimensional array\n",
    "x = np.array(43)\n",
    "print(x)\n",
    "print(type(x))\n",
    "print(np.ndim(x))"
   ]
  },
  {
   "cell_type": "code",
   "execution_count": 49,
   "id": "0492391f-630f-41a8-b5f0-1eb57adcb19f",
   "metadata": {},
   "outputs": [
    {
     "name": "stdout",
     "output_type": "stream",
     "text": [
      "4\n",
      "(2, 2, 2, 3)\n",
      "5\n",
      "5\n",
      "[[1 2 3]\n",
      " [1 2 3]]\n"
     ]
    }
   ],
   "source": [
    "# 4 dimensional array\n",
    "A = np.array([\n",
    "    [\n",
    "        [[1, 2, 3], [1, 2, 3]],\n",
    "        [[1, 2, 3], [1, 2, 3]]\n",
    "    ],\n",
    "    [\n",
    "        [[1, 2, 5], [1, 2, 3]],\n",
    "        [[1, 2, 3], [1, 2, 3]]\n",
    "    ]\n",
    "])\n",
    "\n",
    "print(np.ndim(A))\n",
    "print(A.shape)\n",
    "print(A[1][0][0][2])\n",
    "print(A[1, 0, 0, 2])\n",
    "print(A[0, 0, :])"
   ]
  },
  {
   "cell_type": "code",
   "execution_count": null,
   "id": "7e39a979-d0c7-40cc-bebd-f4ed1f2de431",
   "metadata": {},
   "outputs": [],
   "source": []
  }
 ],
 "metadata": {
  "kernelspec": {
   "display_name": "Python 3 (ipykernel)",
   "language": "python",
   "name": "python3"
  },
  "language_info": {
   "codemirror_mode": {
    "name": "ipython",
    "version": 3
   },
   "file_extension": ".py",
   "mimetype": "text/x-python",
   "name": "python",
   "nbconvert_exporter": "python",
   "pygments_lexer": "ipython3",
   "version": "3.10.12"
  }
 },
 "nbformat": 4,
 "nbformat_minor": 5
}
