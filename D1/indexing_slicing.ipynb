{
 "cells": [
  {
   "cell_type": "code",
   "execution_count": 1,
   "id": "56887287-4ec2-4feb-b249-068a26d83e48",
   "metadata": {},
   "outputs": [],
   "source": [
    "import numpy as np"
   ]
  },
  {
   "cell_type": "code",
   "execution_count": 5,
   "id": "1137befd-4d70-4b9a-ba32-b51d8db8f7e8",
   "metadata": {},
   "outputs": [
    {
     "name": "stdout",
     "output_type": "stream",
     "text": [
      "[0 1 2 3 4 5 6 7 8 9]\n",
      "1\n",
      "[1 2 3 4 5 6 7 8 9]\n"
     ]
    }
   ],
   "source": [
    "one = np.arange(0, 10)\n",
    "print(one)\n",
    "# indexing\n",
    "print(one[1])\n",
    "# slicing\n",
    "print(one[1:])"
   ]
  },
  {
   "cell_type": "code",
   "execution_count": 14,
   "id": "6f2afab0-e777-4c9a-8f61-3650c4da74af",
   "metadata": {},
   "outputs": [
    {
     "name": "stdout",
     "output_type": "stream",
     "text": [
      "[[0 1 2 3 4]\n",
      " [5 6 7 8 9]]\n",
      "7\n",
      "[[7 8 9]]\n"
     ]
    }
   ],
   "source": [
    "two = np.arange(0, 10).reshape(2, 5)\n",
    "print(two)\n",
    "# indexing\n",
    "print(two[1, 2])\n",
    "# slicing\n",
    "print(two[1:, 2:])"
   ]
  },
  {
   "cell_type": "code",
   "execution_count": 25,
   "id": "24eb44d1-740c-4456-a09d-a22c38d0d013",
   "metadata": {},
   "outputs": [
    {
     "name": "stdout",
     "output_type": "stream",
     "text": [
      "[[[ 0  1  2  3  4]\n",
      "  [ 5  6  7  8  9]\n",
      "  [10 11 12 13 14]]]\n",
      "7\n",
      "[[[ 7  8  9]\n",
      "  [12 13 14]]]\n"
     ]
    }
   ],
   "source": [
    "three = np.arange(0, 15).reshape(1, 3, 5)\n",
    "print(three)\n",
    "# indexing\n",
    "print(three[0, 1, 2])\n",
    "# slicing\n",
    "print(three[:,1:, 2:])"
   ]
  },
  {
   "cell_type": "code",
   "execution_count": 28,
   "id": "3f7bd724-b2ea-472e-b636-5d55bad350cb",
   "metadata": {},
   "outputs": [
    {
     "name": "stdout",
     "output_type": "stream",
     "text": [
      "[[[ 0  1  2  3]\n",
      "  [ 4  5  6  7]\n",
      "  [ 8  9 10 11]]\n",
      "\n",
      " [[12 13 14 15]\n",
      "  [16 17 18 19]\n",
      "  [20 21 22 23]]]\n",
      "19\n",
      "[[[17 18 19]\n",
      "  [21 22 23]]]\n"
     ]
    }
   ],
   "source": [
    "three = np.arange(0, 24).reshape(2, 3, 4)\n",
    "print(three)\n",
    "print(three[1, 1, 3])\n",
    "print(three[1:, 1:, 1:])"
   ]
  },
  {
   "cell_type": "code",
   "execution_count": 32,
   "id": "908d7cb6-0664-4e25-a86e-907831e9578c",
   "metadata": {},
   "outputs": [
    {
     "name": "stdout",
     "output_type": "stream",
     "text": [
      "[[[[ 1.  2.  3.  4.  5.]\n",
      "   [ 6.  7.  8.  9. 10.]\n",
      "   [11. 12. 13. 14. 15.]\n",
      "   [16. 17. 18. 19. 20.]\n",
      "   [21. 22. 23. 24. 25.]]]\n",
      "\n",
      "\n",
      " [[[26. 27. 28. 29. 30.]\n",
      "   [31. 32. 33. 34. 35.]\n",
      "   [36. 37. 38. 39. 40.]\n",
      "   [41. 42. 43. 44. 45.]\n",
      "   [46. 47. 48. 49. 50.]]]]\n",
      "28.0\n",
      "[[[[28. 29. 30.]\n",
      "   [33. 34. 35.]\n",
      "   [38. 39. 40.]]]]\n"
     ]
    }
   ],
   "source": [
    "four = np.linspace(1, 50).reshape(2, 1, 5, 5)\n",
    "print(four)\n",
    "# indexing\n",
    "print(four[1, 0, 0, 2])\n",
    "print(four[1:, 0:, 0:3, 2:])"
   ]
  },
  {
   "cell_type": "code",
   "execution_count": null,
   "id": "901f36ff-dd6d-4454-9f30-a37ac4653ef5",
   "metadata": {},
   "outputs": [],
   "source": []
  }
 ],
 "metadata": {
  "kernelspec": {
   "display_name": "Python 3 (ipykernel)",
   "language": "python",
   "name": "python3"
  },
  "language_info": {
   "codemirror_mode": {
    "name": "ipython",
    "version": 3
   },
   "file_extension": ".py",
   "mimetype": "text/x-python",
   "name": "python",
   "nbconvert_exporter": "python",
   "pygments_lexer": "ipython3",
   "version": "3.10.12"
  }
 },
 "nbformat": 4,
 "nbformat_minor": 5
}
